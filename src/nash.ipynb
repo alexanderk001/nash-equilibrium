{
 "cells": [
  {
   "cell_type": "markdown",
   "metadata": {},
   "source": [
    "# 🔍 Nash Equilibrium Finder\n"
   ]
  },
  {
   "cell_type": "markdown",
   "metadata": {},
   "source": [
    "## What is a Nash Equilibrium?\n"
   ]
  },
  {
   "cell_type": "markdown",
   "metadata": {},
   "source": [
    "The **Nash Equilibrium** is a central concept in game theory and describes a combination of strategies in which no player can improve their outcome by changing their strategy, provided the other players keep their strategies unchanged. It represents a stable state in which the strategies of all players are optimal given the strategies of the others.\n",
    "\n",
    "The following two-player game has two symmetric Nash equilibria, namely one in which both players play strategy 1 and another in which both players play strategy 2:\n",
    "\n",
    "| Player 1 / Player 2 | Strategy 1 | Strategy 2 |\n",
    "| ------------------- | ---------- | ---------- |\n",
    "| **Strategy 1**      | (3, 3)     | (0, 2)     |\n",
    "| **Strategy 2**      | (2, 0)     | (1, 1)     |\n"
   ]
  },
  {
   "cell_type": "markdown",
   "metadata": {},
   "source": [
    "## Define the functions\n"
   ]
  },
  {
   "cell_type": "code",
   "execution_count": 1,
   "metadata": {},
   "outputs": [],
   "source": [
    "def best_response_player1(matrix):\n",
    "    \"\"\"Find the best responses for Player 1.\"\"\"\n",
    "    best_responses = []\n",
    "\n",
    "    for col in range(len(matrix[0])):\n",
    "        max_payoff = max(row[col][0] for row in matrix)\n",
    "        best_responses.extend(\n",
    "            [(row_idx, col) for row_idx, row in enumerate(matrix) if row[col][0] == max_payoff]\n",
    "        )\n",
    "    return best_responses\n",
    "\n",
    "\n",
    "def best_response_player2(matrix):\n",
    "    \"\"\"Find the best responses for Player 2.\"\"\"\n",
    "    best_responses = []\n",
    "\n",
    "    for row_idx, row in enumerate(matrix):\n",
    "        max_payoff = max(cell[1] for cell in row)\n",
    "        best_responses.extend(\n",
    "            [(row_idx, col_idx) for col_idx, cell in enumerate(row) if cell[1] == max_payoff]\n",
    "        )\n",
    "    return best_responses\n",
    "\n",
    "\n",
    "def strict_equilibrium(matrix):\n",
    "    \"\"\"Check for Nash equilibria in pure strategies.\"\"\"\n",
    "    best_responses_1 = best_response_player1(matrix)\n",
    "    best_responses_2 = best_response_player2(matrix)\n",
    "    \n",
    "    equilibria = [\n",
    "        (row, col)\n",
    "        for row, col in best_responses_1\n",
    "        if (row, col) in best_responses_2\n",
    "    ]\n",
    "\n",
    "    if equilibria:\n",
    "        for row, col in equilibria:\n",
    "            print(f\"The combination of strategy {row + 1} (Player 1) and strategy {col + 1} (Player 2) \"\n",
    "                  f\"is a pure Nash equilibrium with payoffs {matrix[row][col]}.\")\n",
    "\n",
    "    else:\n",
    "        print(\"There is no Nash equilibrium in pure strategies.\")"
   ]
  },
  {
   "cell_type": "markdown",
   "metadata": {},
   "source": [
    "## Edit the Payoff Matrix\n"
   ]
  },
  {
   "cell_type": "markdown",
   "metadata": {},
   "source": [
    "For the payoff matrix, any positive number of strategies can be assigned to each player. The number of strategies does not need to be the same for both players; each can have a different set of strategies and corresponding payoffs. Furthermore, the payoffs themselves can be any real numbers, allowing for both positive and negative values.\n"
   ]
  },
  {
   "cell_type": "code",
   "execution_count": 2,
   "metadata": {},
   "outputs": [],
   "source": [
    "matrix = [[(3,3), (1,4)],\n",
    "          [(4,1), (2,2)]]"
   ]
  },
  {
   "cell_type": "markdown",
   "metadata": {},
   "source": [
    "## Find the Nash Equilibrium\n"
   ]
  },
  {
   "cell_type": "code",
   "execution_count": null,
   "metadata": {},
   "outputs": [],
   "source": [
    "strict_equilibrium(matrix)"
   ]
  }
 ],
 "metadata": {
  "kernelspec": {
   "display_name": "myenv",
   "language": "python",
   "name": "python3"
  },
  "language_info": {
   "codemirror_mode": {
    "name": "ipython",
    "version": 3
   },
   "file_extension": ".py",
   "mimetype": "text/x-python",
   "name": "python",
   "nbconvert_exporter": "python",
   "pygments_lexer": "ipython3",
   "version": "3.13.1"
  }
 },
 "nbformat": 4,
 "nbformat_minor": 2
}
